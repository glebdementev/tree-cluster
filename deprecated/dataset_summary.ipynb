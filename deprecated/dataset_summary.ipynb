{
  "cells": [
    {
      "cell_type": "markdown",
      "metadata": {},
      "source": [
        "# Dataset Summary for .las Files\n",
        "\n",
        "This notebook scans a dataset directory recursively to find all `.las` files, infers species from the immediate parent folder name, and reports summary statistics by species and by larger dataset folders (the parent of each species folder).\n"
      ]
    },
    {
      "cell_type": "code",
      "execution_count": 2,
      "metadata": {},
      "outputs": [],
      "source": [
        "from __future__ import annotations\n",
        "from pathlib import Path\n",
        "from typing import Iterable\n",
        "\n",
        "# Set your dataset root here. You can change this as needed.\n",
        "DATASET_ROOT = Path(\"/home/gleb/dev/tree-cluster/dataset\")\n",
        "assert DATASET_ROOT.exists() and DATASET_ROOT.is_dir(), \"Dataset root must exist and be a directory\"\n",
        "\n",
        "# Only consider .las files\n",
        "LAS_SUFFIX = \".las\"\n"
      ]
    },
    {
      "cell_type": "code",
      "execution_count": 3,
      "metadata": {},
      "outputs": [],
      "source": [
        "from enum import Enum\n",
        "from pydantic import BaseModel\n",
        "\n",
        "class Species(str, Enum):\n",
        "    birch = \"birch\"\n",
        "    cedar = \"cedar\"\n",
        "    fir = \"fir\"\n",
        "    larch = \"larch\"\n",
        "    pine = \"pine\"\n",
        "    spruce = \"spruce\"\n",
        "    unknown = \"unknown\"\n",
        "\n",
        "class LasFileRecord(BaseModel):\n",
        "    path: str\n",
        "    species: Species\n",
        "    dataset_folder: str  # the immediate higher-level folder above the species folder\n",
        "\n",
        "    @property\n",
        "    def path_obj(self) -> Path:\n",
        "        return Path(self.path)\n"
      ]
    },
    {
      "cell_type": "code",
      "execution_count": 4,
      "metadata": {},
      "outputs": [
        {
          "data": {
            "text/plain": [
              "718"
            ]
          },
          "execution_count": 4,
          "metadata": {},
          "output_type": "execute_result"
        }
      ],
      "source": [
        "from collections import defaultdict\n",
        "from typing import List\n",
        "\n",
        "SPECIES_NAMES = {s.value for s in Species}\n",
        "\n",
        "def infer_species(path: Path) -> Species:\n",
        "    parent = path.parent.name.lower()\n",
        "    if parent in SPECIES_NAMES:\n",
        "        return Species(parent)  # type: ignore[arg-type]\n",
        "    return Species.unknown\n",
        "\n",
        "\n",
        "def infer_dataset_folder(path: Path) -> str:\n",
        "    species_folder = path.parent\n",
        "    higher = species_folder.parent\n",
        "    return higher.name\n",
        "\n",
        "\n",
        "def scan_las_files(root: Path) -> List[LasFileRecord]:\n",
        "    results: List[LasFileRecord] = []\n",
        "    for p in root.rglob(f\"*{LAS_SUFFIX}\"):\n",
        "        if not p.is_file():\n",
        "            continue\n",
        "        species = infer_species(p)\n",
        "        dataset_folder = infer_dataset_folder(p)\n",
        "        results.append(\n",
        "            LasFileRecord(\n",
        "                path=str(p),\n",
        "                species=species,\n",
        "                dataset_folder=dataset_folder,\n",
        "            )\n",
        "        )\n",
        "    return results\n",
        "\n",
        "records = scan_las_files(DATASET_ROOT)\n",
        "len(records)\n"
      ]
    },
    {
      "cell_type": "code",
      "execution_count": 5,
      "metadata": {},
      "outputs": [
        {
          "name": "stdout",
          "output_type": "stream",
          "text": [
            "Counts by species:\n",
            "  birch: 114\n",
            "  cedar: 59\n",
            "  fir: 59\n",
            "  larch: 183\n",
            "  pine: 190\n",
            "  spruce: 112\n",
            "  unknown: 1\n",
            "\n",
            "Counts by dataset folder:\n",
            "  PROBA1_RESEG_dataset_861de863: 298\n",
            "  PROBA2_RESEG_dataset_c38db91a: 82\n",
            "  PROBA3_RESEG_разобрано: 338\n",
            "\n",
            "Folder x species:\n",
            "  PROBA1_RESEG_dataset_861de863: birch=100, cedar=50, fir=59, larch=24, pine=5, spruce=60, unknown=0\n",
            "  PROBA2_RESEG_dataset_c38db91a: birch=4, cedar=0, fir=0, larch=31, pine=23, spruce=23, unknown=1\n",
            "  PROBA3_RESEG_разобрано: birch=10, cedar=9, fir=0, larch=128, pine=162, spruce=29, unknown=0\n"
          ]
        }
      ],
      "source": [
        "from collections import Counter\n",
        "from itertools import groupby\n",
        "\n",
        "# Summary by species\n",
        "species_counts = Counter(r.species for r in records)\n",
        "print(\"Counts by species:\")\n",
        "for sp, count in sorted(species_counts.items(), key=lambda x: x[0].value):\n",
        "    print(f\"  {sp.value}: {count}\")\n",
        "\n",
        "# Summary by dataset folder\n",
        "folder_counts = Counter(r.dataset_folder for r in records)\n",
        "print(\"\\nCounts by dataset folder:\")\n",
        "for folder, count in sorted(folder_counts.items()):\n",
        "    print(f\"  {folder}: {count}\")\n",
        "\n",
        "# Cross-tab: folder x species\n",
        "print(\"\\nFolder x species:\")\n",
        "folders = sorted(folder_counts.keys())\n",
        "all_species = sorted([s for s in Species], key=lambda s: s.value)\n",
        "for folder in folders:\n",
        "    subset = [r for r in records if r.dataset_folder == folder]\n",
        "    c = Counter(r.species for r in subset)\n",
        "    row = \", \".join(f\"{sp.value}={c.get(sp, 0)}\" for sp in all_species)\n",
        "    print(f\"  {folder}: {row}\")\n"
      ]
    }
  ],
  "metadata": {
    "kernelspec": {
      "display_name": ".venv",
      "language": "python",
      "name": "python3"
    },
    "language_info": {
      "codemirror_mode": {
        "name": "ipython",
        "version": 3
      },
      "file_extension": ".py",
      "mimetype": "text/x-python",
      "name": "python",
      "nbconvert_exporter": "python",
      "pygments_lexer": "ipython3",
      "version": "3.12.3"
    }
  },
  "nbformat": 4,
  "nbformat_minor": 2
}
